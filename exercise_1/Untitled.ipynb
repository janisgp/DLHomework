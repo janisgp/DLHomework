{
 "cells": [
  {
   "cell_type": "code",
   "execution_count": 45,
   "metadata": {},
   "outputs": [
    {
     "name": "stdout",
     "output_type": "stream",
     "text": [
      "(100, 10)\n",
      "(20, 10)\n"
     ]
    },
    {
     "name": "stderr",
     "output_type": "stream",
     "text": [
      "c:\\users\\janis\\homework\\deeplearning\\hw1\\dl4cv\\.venv\\lib\\site-packages\\ipykernel_launcher.py:13: RuntimeWarning: divide by zero encountered in true_divide\n",
      "  del sys.path[0]\n",
      "c:\\users\\janis\\homework\\deeplearning\\hw1\\dl4cv\\.venv\\lib\\site-packages\\ipykernel_launcher.py:13: RuntimeWarning: invalid value encountered in true_divide\n",
      "  del sys.path[0]\n"
     ]
    },
    {
     "data": {
      "text/plain": [
       "array([[          nan,    1.        ,    1.        ,    1.        ,\n",
       "           1.        ,    1.        ,    1.        ,    1.        ,\n",
       "           1.        ,    1.        ],\n",
       "       [          inf,   11.        ,    6.        ,    4.33333333,\n",
       "           3.5       ,    3.        ,    2.66666667,    2.42857143,\n",
       "           2.25      ,    2.11111111],\n",
       "       [          inf,   21.        ,   11.        ,    7.66666667,\n",
       "           6.        ,    5.        ,    4.33333333,    3.85714286,\n",
       "           3.5       ,    3.22222222],\n",
       "       [          inf,   31.        ,   16.        ,   11.        ,\n",
       "           8.5       ,    7.        ,    6.        ,    5.28571429,\n",
       "           4.75      ,    4.33333333],\n",
       "       [          inf,   41.        ,   21.        ,   14.33333333,\n",
       "          11.        ,    9.        ,    7.66666667,    6.71428571,\n",
       "           6.        ,    5.44444444],\n",
       "       [          inf,   51.        ,   26.        ,   17.66666667,\n",
       "          13.5       ,   11.        ,    9.33333333,    8.14285714,\n",
       "           7.25      ,    6.55555556],\n",
       "       [          inf,   61.        ,   31.        ,   21.        ,\n",
       "          16.        ,   13.        ,   11.        ,    9.57142857,\n",
       "           8.5       ,    7.66666667],\n",
       "       [          inf,   71.        ,   36.        ,   24.33333333,\n",
       "          18.5       ,   15.        ,   12.66666667,   11.        ,\n",
       "           9.75      ,    8.77777778],\n",
       "       [          inf,   81.        ,   41.        ,   27.66666667,\n",
       "          21.        ,   17.        ,   14.33333333,   12.42857143,\n",
       "          11.        ,    9.88888889],\n",
       "       [          inf,   91.        ,   46.        ,   31.        ,\n",
       "          23.5       ,   19.        ,   16.        ,   13.85714286,\n",
       "          12.25      ,   11.        ],\n",
       "       [          inf,  101.        ,   51.        ,   34.33333333,\n",
       "          26.        ,   21.        ,   17.66666667,   15.28571429,\n",
       "          13.5       ,   12.11111111],\n",
       "       [          inf,  111.        ,   56.        ,   37.66666667,\n",
       "          28.5       ,   23.        ,   19.33333333,   16.71428571,\n",
       "          14.75      ,   13.22222222],\n",
       "       [          inf,  121.        ,   61.        ,   41.        ,\n",
       "          31.        ,   25.        ,   21.        ,   18.14285714,\n",
       "          16.        ,   14.33333333],\n",
       "       [          inf,  131.        ,   66.        ,   44.33333333,\n",
       "          33.5       ,   27.        ,   22.66666667,   19.57142857,\n",
       "          17.25      ,   15.44444444],\n",
       "       [          inf,  141.        ,   71.        ,   47.66666667,\n",
       "          36.        ,   29.        ,   24.33333333,   21.        ,\n",
       "          18.5       ,   16.55555556],\n",
       "       [          inf,  151.        ,   76.        ,   51.        ,\n",
       "          38.5       ,   31.        ,   26.        ,   22.42857143,\n",
       "          19.75      ,   17.66666667],\n",
       "       [          inf,  161.        ,   81.        ,   54.33333333,\n",
       "          41.        ,   33.        ,   27.66666667,   23.85714286,\n",
       "          21.        ,   18.77777778],\n",
       "       [          inf,  171.        ,   86.        ,   57.66666667,\n",
       "          43.5       ,   35.        ,   29.33333333,   25.28571429,\n",
       "          22.25      ,   19.88888889],\n",
       "       [          inf,  181.        ,   91.        ,   61.        ,\n",
       "          46.        ,   37.        ,   31.        ,   26.71428571,\n",
       "          23.5       ,   21.        ],\n",
       "       [          inf,  191.        ,   96.        ,   64.33333333,\n",
       "          48.5       ,   39.        ,   32.66666667,   28.14285714,\n",
       "          24.75      ,   22.11111111]])"
      ]
     },
     "execution_count": 45,
     "metadata": {},
     "output_type": "execute_result"
    }
   ],
   "source": [
    "import numpy as np\n",
    "\n",
    "W = np.arange(1000)\n",
    "W = np.resize(W,(100,10))\n",
    "X = np.resize(np.arange(200),(20,10))\n",
    "a = np.arange(10)\n",
    "print(W.shape)\n",
    "print(X.shape)\n",
    "#C = np.matmul(W,X.T)\n",
    "#print(C)\n",
    "#np.sum(C,axis=1)\n",
    "\n",
    "np.divide(X,a)\n"
   ]
  },
  {
   "cell_type": "code",
   "execution_count": null,
   "metadata": {
    "collapsed": true
   },
   "outputs": [],
   "source": []
  }
 ],
 "metadata": {
  "kernelspec": {
   "display_name": "Python 3",
   "language": "python",
   "name": "python3"
  },
  "language_info": {
   "codemirror_mode": {
    "name": "ipython",
    "version": 3
   },
   "file_extension": ".py",
   "mimetype": "text/x-python",
   "name": "python",
   "nbconvert_exporter": "python",
   "pygments_lexer": "ipython3",
   "version": "3.6.3"
  }
 },
 "nbformat": 4,
 "nbformat_minor": 2
}
